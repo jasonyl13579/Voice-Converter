{
 "cells": [
  {
   "cell_type": "code",
   "execution_count": 1,
   "metadata": {},
   "outputs": [],
   "source": [
    "import os\n",
    "import pickle\n",
    "import numpy as np\n",
    "from scipy.io.wavfile import read\n",
    "from featureextraction import extract_features\n",
    "#from speakerfeatures import extract_features\n",
    "import warnings\n",
    "warnings.filterwarnings(\"ignore\")\n",
    "import time\n",
    "\n"
   ]
  },
  {
   "cell_type": "code",
   "execution_count": null,
   "metadata": {},
   "outputs": [],
   "source": [
    "#環境需求:\n",
    "##1.python_speech_features\n",
    "##2.scipy\n",
    "##3.pickle\n",
    "##4.numpy\n",
    "##5.sklearn"
   ]
  },
  {
   "cell_type": "code",
   "execution_count": 12,
   "metadata": {},
   "outputs": [],
   "source": [
    "#input:\n",
    "##1.input_dir:音檔的相對路徑, ex. input_dir='SampleData/SF1/100151.wav'\n",
    "#output:\n",
    "##1.name: 此音檔的人名, ex. 'SF1'\n",
    "def get_speaker(input_dir):\n",
    "\n",
    "\n",
    "    modelpath = \"Speakers_models/\"\n",
    "    gmm_files = [os.path.join(modelpath,fname) for fname in \n",
    "                  os.listdir(modelpath) if fname.endswith('.gmm')]\n",
    "    models    = [pickle.load(open(fname,'rb'), encoding='latin1') for fname in gmm_files]\n",
    "    speakers   = [fname.split(\"/\")[-1].split(\".gmm\")[0] for fname \n",
    "                  in gmm_files]\n",
    "    \n",
    "    sr,audio = read(input_dir)\n",
    "    vector   = extract_features(audio,sr)\n",
    "\n",
    "    log_likelihood = np.zeros(len(models)) \n",
    "\n",
    "    for i in range(len(models)):\n",
    "        gmm    = models[i]  #checking with each model one by one\n",
    "        scores = np.array(gmm.score(vector))\n",
    "        log_likelihood[i] = scores.sum()\n",
    "\n",
    "    winner = np.argmax(log_likelihood)\n",
    "    \n",
    "    return speakers[winner]\n",
    "\n",
    "\n"
   ]
  },
  {
   "cell_type": "code",
   "execution_count": 14,
   "metadata": {},
   "outputs": [
    {
     "data": {
      "text/plain": [
       "'Wen'"
      ]
     },
     "execution_count": 14,
     "metadata": {},
     "output_type": "execute_result"
    }
   ],
   "source": [
    "#例子\n",
    "get_speaker('SampleData/Wen/100152.wav')"
   ]
  },
  {
   "cell_type": "code",
   "execution_count": null,
   "metadata": {},
   "outputs": [],
   "source": []
  }
 ],
 "metadata": {
  "kernelspec": {
   "display_name": "Python 3",
   "language": "python",
   "name": "python3"
  },
  "language_info": {
   "codemirror_mode": {
    "name": "ipython",
    "version": 3
   },
   "file_extension": ".py",
   "mimetype": "text/x-python",
   "name": "python",
   "nbconvert_exporter": "python",
   "pygments_lexer": "ipython3",
   "version": "3.6.8"
  }
 },
 "nbformat": 4,
 "nbformat_minor": 2
}
